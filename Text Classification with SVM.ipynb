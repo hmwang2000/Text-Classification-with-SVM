{
 "cells": [
  {
   "cell_type": "code",
   "execution_count": 1,
   "metadata": {},
   "outputs": [],
   "source": [
    "import jieba\n",
    "import numpy as np\n",
    "import pandas as pd"
   ]
  },
  {
   "cell_type": "code",
   "execution_count": 2,
   "metadata": {},
   "outputs": [],
   "source": [
    "pos = pd.read_csv('../Desktop/weather_pos.txt', encoding='UTF-8', header=None)"
   ]
  },
  {
   "cell_type": "code",
   "execution_count": 3,
   "metadata": {},
   "outputs": [],
   "source": [
    "neg = pd.read_csv('../Desktop/weather_neg.txt', encoding='UTF-8', header=None)"
   ]
  },
  {
   "cell_type": "code",
   "execution_count": 4,
   "metadata": {},
   "outputs": [
    {
     "name": "stderr",
     "output_type": "stream",
     "text": [
      "Building prefix dict from the default dictionary ...\n",
      "Loading model from cache C:\\Users\\Oscar\\AppData\\Local\\Temp\\jieba.cache\n",
      "Loading model cost 0.677 seconds.\n",
      "Prefix dict has been built successfully.\n"
     ]
    }
   ],
   "source": [
    "pos['words'] = pos[0].apply(lambda x: jieba.lcut(x))"
   ]
  },
  {
   "cell_type": "code",
   "execution_count": 5,
   "metadata": {},
   "outputs": [],
   "source": [
    "neg['words'] = neg[0].apply(lambda x: jieba.lcut(x))"
   ]
  },
  {
   "cell_type": "code",
   "execution_count": 6,
   "metadata": {},
   "outputs": [
    {
     "data": {
      "text/html": [
       "<div>\n",
       "<style scoped>\n",
       "    .dataframe tbody tr th:only-of-type {\n",
       "        vertical-align: middle;\n",
       "    }\n",
       "\n",
       "    .dataframe tbody tr th {\n",
       "        vertical-align: top;\n",
       "    }\n",
       "\n",
       "    .dataframe thead th {\n",
       "        text-align: right;\n",
       "    }\n",
       "</style>\n",
       "<table border=\"1\" class=\"dataframe\">\n",
       "  <thead>\n",
       "    <tr style=\"text-align: right;\">\n",
       "      <th></th>\n",
       "      <th>0</th>\n",
       "      <th>words</th>\n",
       "    </tr>\n",
       "  </thead>\n",
       "  <tbody>\n",
       "    <tr>\n",
       "      <th>0</th>\n",
       "      <td>没心没肺一点就是爱自己</td>\n",
       "      <td>[没心没肺, 一点, 就是, 爱, 自己]</td>\n",
       "    </tr>\n",
       "    <tr>\n",
       "      <th>1</th>\n",
       "      <td>你是不想活了</td>\n",
       "      <td>[你, 是, 不想, 活, 了]</td>\n",
       "    </tr>\n",
       "    <tr>\n",
       "      <th>2</th>\n",
       "      <td>有个差不多的人来个差不多的触电</td>\n",
       "      <td>[有个, 差不多, 的, 人来, 个, 差不多, 的, 触电]</td>\n",
       "    </tr>\n",
       "    <tr>\n",
       "      <th>3</th>\n",
       "      <td>那你刚才说你高一</td>\n",
       "      <td>[那, 你, 刚才, 说, 你, 高一]</td>\n",
       "    </tr>\n",
       "    <tr>\n",
       "      <th>4</th>\n",
       "      <td>博彩通百度最新消息博彩到JQK365娱乐城</td>\n",
       "      <td>[博彩, 通, 百度, 最新消息, 博彩, 到, JQK365, 娱乐城]</td>\n",
       "    </tr>\n",
       "    <tr>\n",
       "      <th>...</th>\n",
       "      <td>...</td>\n",
       "      <td>...</td>\n",
       "    </tr>\n",
       "    <tr>\n",
       "      <th>22508</th>\n",
       "      <td>设定闹钟铃声</td>\n",
       "      <td>[设定, 闹钟, 铃声]</td>\n",
       "    </tr>\n",
       "    <tr>\n",
       "      <th>22509</th>\n",
       "      <td>把空调的风调小</td>\n",
       "      <td>[把, 空调, 的, 风调, 小]</td>\n",
       "    </tr>\n",
       "    <tr>\n",
       "      <th>22510</th>\n",
       "      <td>我让你变得温柔一点说话不要那么过分</td>\n",
       "      <td>[我, 让, 你, 变得, 温柔, 一点, 说话, 不要, 那么, 过分]</td>\n",
       "    </tr>\n",
       "    <tr>\n",
       "      <th>22511</th>\n",
       "      <td>小型跳圆圈舞</td>\n",
       "      <td>[小型, 跳, 圆圈, 舞]</td>\n",
       "    </tr>\n",
       "    <tr>\n",
       "      <th>22512</th>\n",
       "      <td>我愿意和你交换体重</td>\n",
       "      <td>[我, 愿意, 和, 你, 交换, 体重]</td>\n",
       "    </tr>\n",
       "  </tbody>\n",
       "</table>\n",
       "<p>22513 rows × 2 columns</p>\n",
       "</div>"
      ],
      "text/plain": [
       "                           0                                  words\n",
       "0                没心没肺一点就是爱自己                  [没心没肺, 一点, 就是, 爱, 自己]\n",
       "1                     你是不想活了                       [你, 是, 不想, 活, 了]\n",
       "2            有个差不多的人来个差不多的触电        [有个, 差不多, 的, 人来, 个, 差不多, 的, 触电]\n",
       "3                   那你刚才说你高一                   [那, 你, 刚才, 说, 你, 高一]\n",
       "4      博彩通百度最新消息博彩到JQK365娱乐城  [博彩, 通, 百度, 最新消息, 博彩, 到, JQK365, 娱乐城]\n",
       "...                      ...                                    ...\n",
       "22508                 设定闹钟铃声                           [设定, 闹钟, 铃声]\n",
       "22509                把空调的风调小                      [把, 空调, 的, 风调, 小]\n",
       "22510      我让你变得温柔一点说话不要那么过分  [我, 让, 你, 变得, 温柔, 一点, 说话, 不要, 那么, 过分]\n",
       "22511                 小型跳圆圈舞                         [小型, 跳, 圆圈, 舞]\n",
       "22512              我愿意和你交换体重                  [我, 愿意, 和, 你, 交换, 体重]\n",
       "\n",
       "[22513 rows x 2 columns]"
      ]
     },
     "execution_count": 6,
     "metadata": {},
     "output_type": "execute_result"
    }
   ],
   "source": [
    "neg"
   ]
  },
  {
   "cell_type": "code",
   "execution_count": 7,
   "metadata": {},
   "outputs": [],
   "source": [
    "x = np.concatenate((pos['words'], neg['words']))"
   ]
  },
  {
   "cell_type": "code",
   "execution_count": 8,
   "metadata": {},
   "outputs": [],
   "source": [
    "y = np.concatenate((np.ones(len(pos)),np.zeros(len(neg))))"
   ]
  },
  {
   "cell_type": "code",
   "execution_count": 9,
   "metadata": {},
   "outputs": [],
   "source": [
    "from gensim.models.word2vec import Word2Vec"
   ]
  },
  {
   "cell_type": "code",
   "execution_count": 10,
   "metadata": {},
   "outputs": [],
   "source": [
    "word2vec = Word2Vec(x, size=300, window=3, min_count=5, sg=1, hs=1, iter=10, workers=25)"
   ]
  },
  {
   "cell_type": "code",
   "execution_count": 11,
   "metadata": {},
   "outputs": [],
   "source": [
    "word2vec.save('../Desktop/word2vec.model')"
   ]
  },
  {
   "cell_type": "code",
   "execution_count": 12,
   "metadata": {},
   "outputs": [
    {
     "data": {
      "text/plain": [
       "array([-0.44340527, -0.46484488,  0.2581572 ,  0.21782063,  0.00132482,\n",
       "        0.20777151,  0.65886456,  0.33752787, -0.3786229 ,  0.20326719,\n",
       "        0.42066148, -0.13763933,  0.51602566,  0.18755844, -0.07084246,\n",
       "        0.24245203,  0.23999532,  0.04527772,  0.0873777 , -0.03502242,\n",
       "        0.4726013 ,  0.48828664,  0.07702077,  0.03528466, -0.3649241 ,\n",
       "        0.18934588,  0.46830156,  0.03844164,  0.76555914,  0.03859922,\n",
       "       -0.09633848, -0.12663956,  0.03962589, -0.24343632,  0.03257497,\n",
       "        0.21635148,  0.07382055, -0.00381618,  0.1388726 , -0.23641074,\n",
       "        0.21457686,  0.1909143 , -0.36611608,  0.39738092, -0.33045793,\n",
       "       -0.00537591,  0.35812   ,  0.11014543,  0.05910615, -0.05027646,\n",
       "        0.28114513, -0.19536595, -0.18062305, -0.06461969, -0.22762798,\n",
       "       -0.06819354, -0.0015293 , -0.16626519, -0.24745505,  0.01657421,\n",
       "       -0.12141601,  0.15320075,  0.20736527,  0.28431153,  0.00806244,\n",
       "        0.09121972,  0.11823659, -0.63201326, -0.09189388, -0.22557256,\n",
       "       -0.14794841, -0.33487922, -0.11930154,  0.05602068,  0.12220316,\n",
       "        0.1523484 ,  0.4411711 , -0.03988634,  0.13982308, -0.05726691,\n",
       "       -0.3347761 ,  0.0250603 , -0.08351348, -0.06502609, -0.50378853,\n",
       "       -0.09075645, -0.13496765, -0.02067778, -0.03600578, -0.7816673 ,\n",
       "       -0.28590542, -0.09199231, -0.1463584 ,  0.14814138,  0.6515921 ,\n",
       "       -0.2602617 ,  0.23362459, -0.30779925, -0.49299264,  0.24438371,\n",
       "       -0.05655972, -0.18594788, -0.13768728,  0.3223291 , -0.44782743,\n",
       "       -0.13056247, -0.31063482, -0.00551268,  0.09705949,  0.22984914,\n",
       "       -0.18929268,  0.19795132,  0.06359234, -0.053362  , -0.18521278,\n",
       "       -0.20115171, -0.14870639, -0.34219378, -0.15206595, -0.29607895,\n",
       "       -0.21224867, -0.22889529,  0.16788433,  0.18121503, -0.4639545 ,\n",
       "       -0.04084248, -0.11882498,  0.30170143,  0.00331401,  0.03606565,\n",
       "        0.21116544,  0.36947155, -0.37545732,  0.34406912, -0.15439558,\n",
       "        0.34988657,  0.0684908 ,  0.07621402, -0.2998907 ,  0.08507081,\n",
       "       -0.44979694,  0.33580324, -0.19338253, -0.28447932,  0.3168574 ,\n",
       "       -0.01856058, -0.04070606, -0.3794234 ,  0.03974665, -0.11913557,\n",
       "        0.2507126 , -0.05347747,  0.03313363, -0.04520483,  0.29398862,\n",
       "        0.40416422, -0.31227577, -0.07868797, -0.51946044,  0.08718634,\n",
       "       -0.28146997,  0.03748488, -0.171388  , -0.14924912,  0.3666911 ,\n",
       "        0.2601881 , -0.31341112, -0.4300199 ,  0.18199255,  0.6330715 ,\n",
       "       -0.6544962 ,  0.11359119, -0.066686  , -0.11493915,  0.06102547,\n",
       "       -0.34612185, -0.22305691, -0.16324735,  0.09956708,  0.29784486,\n",
       "       -0.04009002,  0.2514364 ,  0.27649695,  0.3402516 , -0.03877714,\n",
       "       -0.07349992, -0.03533925,  0.59915704,  0.11358043,  0.22261953,\n",
       "       -0.23700216,  0.28834397,  0.37671784, -0.08778615,  0.30646533,\n",
       "        0.337538  , -0.18549576,  0.30741575, -0.47345823, -0.01439678,\n",
       "        0.11992359,  0.15167528,  0.4280579 , -0.30160093,  0.10590491,\n",
       "        0.21606134, -0.27858746, -0.00499401, -0.00756028, -0.40368584,\n",
       "        0.27380934, -0.09278586,  0.20302258,  0.3629739 ,  0.06119002,\n",
       "       -0.02037384, -0.07046185,  0.10622472,  0.3138076 ,  0.08421072,\n",
       "        0.27466083,  0.23398162,  0.57081133, -0.12410133, -0.06054674,\n",
       "       -0.23983835,  0.19689606,  0.13012423, -0.4388372 , -0.10145357,\n",
       "       -0.40965563, -0.174399  , -0.2475978 , -0.05454676,  0.2744107 ,\n",
       "        0.07434856,  0.32867137, -0.249628  , -0.1477606 , -0.20630412,\n",
       "        0.05250784,  0.20552611,  0.08159592, -0.64141893, -0.23870982,\n",
       "        0.32032982, -0.5487379 ,  0.38384712,  0.3663407 , -0.29981032,\n",
       "        0.4453097 , -0.14013086,  0.14598466,  0.27245632, -0.01642026,\n",
       "       -0.15211833,  0.08230094, -0.9223856 , -0.32215938, -0.13632956,\n",
       "        0.01715526, -0.1472518 ,  0.11539754,  0.51215446, -0.04198634,\n",
       "       -0.37218428,  0.5717216 , -0.4831971 , -0.49765182,  0.44120875,\n",
       "        0.24667925, -0.32650834,  0.34771284,  0.2332064 ,  0.29037437,\n",
       "        0.4006583 ,  0.03124888,  0.3843853 , -0.2732088 ,  0.28790733,\n",
       "       -0.2075612 , -0.33937854,  0.30472323,  0.08163912,  0.4448069 ,\n",
       "        0.29212973, -0.06735338, -0.36974594, -0.12325227, -0.16636081,\n",
       "       -0.24397962, -0.3426887 ,  0.16829567, -0.03851348,  0.27224156,\n",
       "        0.10238781, -0.06924196,  0.17211047,  0.07553802,  0.37949163],\n",
       "      dtype=float32)"
      ]
     },
     "execution_count": 12,
     "metadata": {},
     "output_type": "execute_result"
    }
   ],
   "source": [
    "word2vec.wv['温度']"
   ]
  },
  {
   "cell_type": "code",
   "execution_count": 13,
   "metadata": {},
   "outputs": [],
   "source": [
    "def total_vector(words):\n",
    "    vec = np.zeros(300).reshape((1, 300))\n",
    "    for word in words:\n",
    "        try:\n",
    "            vec += word2vec.wv[word].reshape((1, 300))\n",
    "        except KeyError:\n",
    "            continue\n",
    "    return vec"
   ]
  },
  {
   "cell_type": "code",
   "execution_count": 14,
   "metadata": {},
   "outputs": [],
   "source": [
    "train_vec = np.concatenate([total_vector(words) for words in x])"
   ]
  },
  {
   "cell_type": "code",
   "execution_count": 15,
   "metadata": {},
   "outputs": [
    {
     "data": {
      "text/plain": [
       "array([[-2.15116006,  0.2649736 , -0.53555788, ...,  0.27691792,\n",
       "         0.78636618,  0.489801  ],\n",
       "       [-0.86660157, -0.06048669, -0.04459131, ...,  0.33700325,\n",
       "         0.51765865,  0.34426135],\n",
       "       [-0.84104186, -0.45222624, -0.06007541, ...,  0.39277741,\n",
       "         0.24993864,  0.16592727],\n",
       "       ...,\n",
       "       [-0.83536033,  1.00087314, -0.13343931, ..., -0.14823668,\n",
       "         0.61255995, -1.65132197],\n",
       "       [-0.05177539,  0.34515835,  0.28901224, ...,  0.04726395,\n",
       "         0.27061148, -0.26866695],\n",
       "       [ 0.16190385,  0.28474975, -0.12673797, ..., -0.15524003,\n",
       "         0.22284457, -1.08251442]])"
      ]
     },
     "execution_count": 15,
     "metadata": {},
     "output_type": "execute_result"
    }
   ],
   "source": [
    "train_vec"
   ]
  },
  {
   "cell_type": "code",
   "execution_count": 16,
   "metadata": {},
   "outputs": [
    {
     "name": "stderr",
     "output_type": "stream",
     "text": [
      "c:\\users\\oscar\\appdata\\local\\programs\\python\\python38\\lib\\site-packages\\sklearn\\externals\\joblib\\__init__.py:15: FutureWarning: sklearn.externals.joblib is deprecated in 0.21 and will be removed in 0.23. Please import this functionality directly from joblib, which can be installed with: pip install joblib. If this warning is raised when loading pickled models, you may need to re-serialize those models with scikit-learn 0.21+.\n",
      "  warnings.warn(msg, category=FutureWarning)\n"
     ]
    }
   ],
   "source": [
    "from sklearn.externals import joblib\n",
    "from sklearn.model_selection import cross_val_score\n",
    "from sklearn.svm import SVC"
   ]
  },
  {
   "cell_type": "code",
   "execution_count": 17,
   "metadata": {},
   "outputs": [],
   "source": [
    "model = SVC(kernel='rbf', verbose=True)"
   ]
  },
  {
   "cell_type": "code",
   "execution_count": 18,
   "metadata": {},
   "outputs": [
    {
     "name": "stdout",
     "output_type": "stream",
     "text": [
      "[LibSVM]"
     ]
    },
    {
     "data": {
      "text/plain": [
       "SVC(C=1.0, break_ties=False, cache_size=200, class_weight=None, coef0=0.0,\n",
       "    decision_function_shape='ovr', degree=3, gamma='scale', kernel='rbf',\n",
       "    max_iter=-1, probability=False, random_state=None, shrinking=True,\n",
       "    tol=0.001, verbose=True)"
      ]
     },
     "execution_count": 18,
     "metadata": {},
     "output_type": "execute_result"
    }
   ],
   "source": [
    "model.fit(train_vec, y)"
   ]
  },
  {
   "cell_type": "code",
   "execution_count": 19,
   "metadata": {},
   "outputs": [
    {
     "data": {
      "text/plain": [
       "['../Desktop/weather_svm.pkl']"
      ]
     },
     "execution_count": 19,
     "metadata": {},
     "output_type": "execute_result"
    }
   ],
   "source": [
    "joblib.dump(model, '../Desktop/weather_svm.pkl')"
   ]
  },
  {
   "cell_type": "code",
   "execution_count": 20,
   "metadata": {},
   "outputs": [],
   "source": [
    "model = joblib.load('../Desktop/weather_svm.pkl')"
   ]
  },
  {
   "cell_type": "code",
   "execution_count": 21,
   "metadata": {},
   "outputs": [],
   "source": [
    "def svm_predict(query):\n",
    "    words = jieba.lcut(str(query))\n",
    "    words_vec = total_vector(words)\n",
    "    result = model.predict(words_vec)\n",
    "    if int(result) == 1:\n",
    "        print('类别：天气')\n",
    "    elif int(result) == 0:\n",
    "        print('类别：其他')"
   ]
  },
  {
   "cell_type": "code",
   "execution_count": 22,
   "metadata": {},
   "outputs": [
    {
     "name": "stdout",
     "output_type": "stream",
     "text": [
      "类别：天气\n"
     ]
    }
   ],
   "source": [
    "svm_predict('明天冷不冷')"
   ]
  },
  {
   "cell_type": "code",
   "execution_count": 23,
   "metadata": {},
   "outputs": [
    {
     "name": "stdout",
     "output_type": "stream",
     "text": [
      "类别：其他\n"
     ]
    }
   ],
   "source": [
    "svm_predict('我爱你妈卖麻花情')"
   ]
  },
  {
   "cell_type": "code",
   "execution_count": 24,
   "metadata": {},
   "outputs": [
    {
     "name": "stdout",
     "output_type": "stream",
     "text": [
      "类别：天气\n"
     ]
    }
   ],
   "source": [
    "svm_predict('明天有雨吗')"
   ]
  },
  {
   "cell_type": "code",
   "execution_count": 25,
   "metadata": {},
   "outputs": [
    {
     "name": "stdout",
     "output_type": "stream",
     "text": [
      "类别：其他\n"
     ]
    }
   ],
   "source": [
    "svm_predict('现在几点钟了')"
   ]
  }
 ],
 "metadata": {
  "kernelspec": {
   "display_name": "Python 3",
   "language": "python",
   "name": "python3"
  },
  "language_info": {
   "codemirror_mode": {
    "name": "ipython",
    "version": 3
   },
   "file_extension": ".py",
   "mimetype": "text/x-python",
   "name": "python",
   "nbconvert_exporter": "python",
   "pygments_lexer": "ipython3",
   "version": "3.8.0"
  }
 },
 "nbformat": 4,
 "nbformat_minor": 2
}
